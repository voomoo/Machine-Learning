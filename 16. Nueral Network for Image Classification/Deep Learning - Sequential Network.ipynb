{
 "cells": [
  {
   "cell_type": "code",
   "execution_count": 52,
   "metadata": {},
   "outputs": [],
   "source": [
    "import numpy as np\n",
    "import matplotlib.pyplot as plt\n",
    "%matplotlib inline"
   ]
  },
  {
   "cell_type": "code",
   "execution_count": 53,
   "metadata": {},
   "outputs": [
    {
     "data": {
      "text/plain": [
       "'tensorflow'"
      ]
     },
     "execution_count": 53,
     "metadata": {},
     "output_type": "execute_result"
    }
   ],
   "source": [
    "import keras\n",
    "keras.backend.backend()"
   ]
  },
  {
   "cell_type": "code",
   "execution_count": 54,
   "metadata": {},
   "outputs": [],
   "source": [
    "dataset = keras.datasets.fashion_mnist\n",
    "(x_train, y_train), (x_test, y_test) = dataset.load_data()"
   ]
  },
  {
   "cell_type": "code",
   "execution_count": 55,
   "metadata": {},
   "outputs": [
    {
     "data": {
      "text/plain": [
       "(60000, 28, 28)"
      ]
     },
     "execution_count": 55,
     "metadata": {},
     "output_type": "execute_result"
    }
   ],
   "source": [
    "x_train.shape"
   ]
  },
  {
   "cell_type": "code",
   "execution_count": 56,
   "metadata": {},
   "outputs": [
    {
     "data": {
      "text/plain": [
       "(10000, 28, 28)"
      ]
     },
     "execution_count": 56,
     "metadata": {},
     "output_type": "execute_result"
    }
   ],
   "source": [
    "x_test.shape"
   ]
  },
  {
   "cell_type": "code",
   "execution_count": 57,
   "metadata": {},
   "outputs": [
    {
     "data": {
      "text/plain": [
       "array([[  0,   0,   0,   0,   0,   0,   0,   0,   0,   0,   0,   0,   0,\n",
       "          0,   0,   0,   0,   0,   0,   0,   0,   0,   0,   0,   0,   0,\n",
       "          0,   0],\n",
       "       [  0,   0,   0,   0,   0,   0,   0,   0,   0,   0,   0,   0,   0,\n",
       "          0,   0,   0,   0,   0,   0,   0,   0,   0,   0,   0,   0,   0,\n",
       "          0,   0],\n",
       "       [  0,   0,   0,   0,   0,   0,   0,   0,   0,   0,   0,   0,   0,\n",
       "          0,   0,   0,   0,   0,   0,   0,   0,   0,   0,   0,   0,   0,\n",
       "          0,   0],\n",
       "       [  0,   0,   0,   0,   0,   0,   0,   0,   0,   0,   0,   0,   1,\n",
       "          0,   0,  13,  73,   0,   0,   1,   4,   0,   0,   0,   0,   1,\n",
       "          1,   0],\n",
       "       [  0,   0,   0,   0,   0,   0,   0,   0,   0,   0,   0,   0,   3,\n",
       "          0,  36, 136, 127,  62,  54,   0,   0,   0,   1,   3,   4,   0,\n",
       "          0,   3],\n",
       "       [  0,   0,   0,   0,   0,   0,   0,   0,   0,   0,   0,   0,   6,\n",
       "          0, 102, 204, 176, 134, 144, 123,  23,   0,   0,   0,   0,  12,\n",
       "         10,   0],\n",
       "       [  0,   0,   0,   0,   0,   0,   0,   0,   0,   0,   0,   0,   0,\n",
       "          0, 155, 236, 207, 178, 107, 156, 161, 109,  64,  23,  77, 130,\n",
       "         72,  15],\n",
       "       [  0,   0,   0,   0,   0,   0,   0,   0,   0,   0,   0,   1,   0,\n",
       "         69, 207, 223, 218, 216, 216, 163, 127, 121, 122, 146, 141,  88,\n",
       "        172,  66],\n",
       "       [  0,   0,   0,   0,   0,   0,   0,   0,   0,   1,   1,   1,   0,\n",
       "        200, 232, 232, 233, 229, 223, 223, 215, 213, 164, 127, 123, 196,\n",
       "        229,   0],\n",
       "       [  0,   0,   0,   0,   0,   0,   0,   0,   0,   0,   0,   0,   0,\n",
       "        183, 225, 216, 223, 228, 235, 227, 224, 222, 224, 221, 223, 245,\n",
       "        173,   0],\n",
       "       [  0,   0,   0,   0,   0,   0,   0,   0,   0,   0,   0,   0,   0,\n",
       "        193, 228, 218, 213, 198, 180, 212, 210, 211, 213, 223, 220, 243,\n",
       "        202,   0],\n",
       "       [  0,   0,   0,   0,   0,   0,   0,   0,   0,   1,   3,   0,  12,\n",
       "        219, 220, 212, 218, 192, 169, 227, 208, 218, 224, 212, 226, 197,\n",
       "        209,  52],\n",
       "       [  0,   0,   0,   0,   0,   0,   0,   0,   0,   0,   6,   0,  99,\n",
       "        244, 222, 220, 218, 203, 198, 221, 215, 213, 222, 220, 245, 119,\n",
       "        167,  56],\n",
       "       [  0,   0,   0,   0,   0,   0,   0,   0,   0,   4,   0,   0,  55,\n",
       "        236, 228, 230, 228, 240, 232, 213, 218, 223, 234, 217, 217, 209,\n",
       "         92,   0],\n",
       "       [  0,   0,   1,   4,   6,   7,   2,   0,   0,   0,   0,   0, 237,\n",
       "        226, 217, 223, 222, 219, 222, 221, 216, 223, 229, 215, 218, 255,\n",
       "         77,   0],\n",
       "       [  0,   3,   0,   0,   0,   0,   0,   0,   0,  62, 145, 204, 228,\n",
       "        207, 213, 221, 218, 208, 211, 218, 224, 223, 219, 215, 224, 244,\n",
       "        159,   0],\n",
       "       [  0,   0,   0,   0,  18,  44,  82, 107, 189, 228, 220, 222, 217,\n",
       "        226, 200, 205, 211, 230, 224, 234, 176, 188, 250, 248, 233, 238,\n",
       "        215,   0],\n",
       "       [  0,  57, 187, 208, 224, 221, 224, 208, 204, 214, 208, 209, 200,\n",
       "        159, 245, 193, 206, 223, 255, 255, 221, 234, 221, 211, 220, 232,\n",
       "        246,   0],\n",
       "       [  3, 202, 228, 224, 221, 211, 211, 214, 205, 205, 205, 220, 240,\n",
       "         80, 150, 255, 229, 221, 188, 154, 191, 210, 204, 209, 222, 228,\n",
       "        225,   0],\n",
       "       [ 98, 233, 198, 210, 222, 229, 229, 234, 249, 220, 194, 215, 217,\n",
       "        241,  65,  73, 106, 117, 168, 219, 221, 215, 217, 223, 223, 224,\n",
       "        229,  29],\n",
       "       [ 75, 204, 212, 204, 193, 205, 211, 225, 216, 185, 197, 206, 198,\n",
       "        213, 240, 195, 227, 245, 239, 223, 218, 212, 209, 222, 220, 221,\n",
       "        230,  67],\n",
       "       [ 48, 203, 183, 194, 213, 197, 185, 190, 194, 192, 202, 214, 219,\n",
       "        221, 220, 236, 225, 216, 199, 206, 186, 181, 177, 172, 181, 205,\n",
       "        206, 115],\n",
       "       [  0, 122, 219, 193, 179, 171, 183, 196, 204, 210, 213, 207, 211,\n",
       "        210, 200, 196, 194, 191, 195, 191, 198, 192, 176, 156, 167, 177,\n",
       "        210,  92],\n",
       "       [  0,   0,  74, 189, 212, 191, 175, 172, 175, 181, 185, 188, 189,\n",
       "        188, 193, 198, 204, 209, 210, 210, 211, 188, 188, 194, 192, 216,\n",
       "        170,   0],\n",
       "       [  2,   0,   0,   0,  66, 200, 222, 237, 239, 242, 246, 243, 244,\n",
       "        221, 220, 193, 191, 179, 182, 182, 181, 176, 166, 168,  99,  58,\n",
       "          0,   0],\n",
       "       [  0,   0,   0,   0,   0,   0,   0,  40,  61,  44,  72,  41,  35,\n",
       "          0,   0,   0,   0,   0,   0,   0,   0,   0,   0,   0,   0,   0,\n",
       "          0,   0],\n",
       "       [  0,   0,   0,   0,   0,   0,   0,   0,   0,   0,   0,   0,   0,\n",
       "          0,   0,   0,   0,   0,   0,   0,   0,   0,   0,   0,   0,   0,\n",
       "          0,   0],\n",
       "       [  0,   0,   0,   0,   0,   0,   0,   0,   0,   0,   0,   0,   0,\n",
       "          0,   0,   0,   0,   0,   0,   0,   0,   0,   0,   0,   0,   0,\n",
       "          0,   0]], dtype=uint8)"
      ]
     },
     "execution_count": 57,
     "metadata": {},
     "output_type": "execute_result"
    }
   ],
   "source": [
    "x_train[0]"
   ]
  },
  {
   "cell_type": "code",
   "execution_count": 58,
   "metadata": {},
   "outputs": [
    {
     "data": {
      "text/plain": [
       "9"
      ]
     },
     "execution_count": 58,
     "metadata": {},
     "output_type": "execute_result"
    }
   ],
   "source": [
    "y_train[0]"
   ]
  },
  {
   "cell_type": "code",
   "execution_count": 59,
   "metadata": {},
   "outputs": [
    {
     "data": {
      "text/plain": [
       "<matplotlib.image.AxesImage at 0x7f3438a66790>"
      ]
     },
     "execution_count": 59,
     "metadata": {},
     "output_type": "execute_result"
    },
    {
     "data": {
      "image/png": "[encoded data removed]",
      "text/plain": [
       "<Figure size 288x288 with 1 Axes>"
      ]
     },
     "metadata": {
      "needs_background": "light"
     },
     "output_type": "display_data"
    }
   ],
   "source": [
    "plt.matshow(x_train[0])"
   ]
  },
  {
   "cell_type": "code",
   "execution_count": 60,
   "metadata": {},
   "outputs": [],
   "source": [
    "x_train = x_train/255\n",
    "x_test = x_test/255"
   ]
  },
  {
   "cell_type": "code",
   "execution_count": 70,
   "metadata": {},
   "outputs": [],
   "source": [
    "from keras.models import Sequential\n",
    "from keras.layers import Flatten, Dense, Activation\n",
    "\n",
    "model = Sequential()\n",
    "model.add(Flatten(input_shape=[28, 28]))\n",
    "model.add(Dense(100, activation=\"relu\"))\n",
    "model.add(Dense(10, activation=\"softmax\"))"
   ]
  },
  {
   "cell_type": "code",
   "execution_count": 71,
   "metadata": {},
   "outputs": [
    {
     "name": "stdout",
     "output_type": "stream",
     "text": [
      "Model: \"sequential_7\"\n",
      "_________________________________________________________________\n",
      "Layer (type)                 Output Shape              Param #   \n",
      "=================================================================\n",
      "flatten_7 (Flatten)          (None, 784)               0         \n",
      "_________________________________________________________________\n",
      "dense_13 (Dense)             (None, 100)               78500     \n",
      "_________________________________________________________________\n",
      "dense_14 (Dense)             (None, 10)                1010      \n",
      "=================================================================\n",
      "Total params: 79,510\n",
      "Trainable params: 79,510\n",
      "Non-trainable params: 0\n",
      "_________________________________________________________________\n"
     ]
    }
   ],
   "source": [
    "model.summary()"
   ]
  },
  {
   "cell_type": "code",
   "execution_count": 72,
   "metadata": {},
   "outputs": [],
   "source": [
    "model.compile(loss = \"sparse_categorical_crossentropy\", \n",
    "              optimizer = \"adam\",\n",
    "              metrics = [\"accuracy\"]\n",
    ")"
   ]
  },
  {
   "cell_type": "code",
   "execution_count": 75,
   "metadata": {},
   "outputs": [
    {
     "name": "stdout",
     "output_type": "stream",
     "text": [
      "Epoch 1/50\n",
      "60000/60000 [==============================] - 5s 86us/step - loss: 0.1515 - accuracy: 0.9434\n",
      "Epoch 2/50\n",
      "60000/60000 [==============================] - 5s 85us/step - loss: 0.1487 - accuracy: 0.9446\n",
      "Epoch 3/50\n",
      "60000/60000 [==============================] - 5s 85us/step - loss: 0.1456 - accuracy: 0.9457\n",
      "Epoch 4/50\n",
      "60000/60000 [==============================] - 5s 85us/step - loss: 0.1444 - accuracy: 0.9450\n",
      "Epoch 5/50\n",
      "60000/60000 [==============================] - 5s 86us/step - loss: 0.1415 - accuracy: 0.9474\n",
      "Epoch 6/50\n",
      "60000/60000 [==============================] - 5s 85us/step - loss: 0.1375 - accuracy: 0.9482\n",
      "Epoch 7/50\n",
      "60000/60000 [==============================] - 5s 85us/step - loss: 0.1369 - accuracy: 0.9492\n",
      "Epoch 8/50\n",
      "60000/60000 [==============================] - 5s 85us/step - loss: 0.1328 - accuracy: 0.9503\n",
      "Epoch 9/50\n",
      "60000/60000 [==============================] - 5s 86us/step - loss: 0.1319 - accuracy: 0.9507\n",
      "Epoch 10/50\n",
      "60000/60000 [==============================] - 5s 86us/step - loss: 0.1281 - accuracy: 0.9529\n",
      "Epoch 11/50\n",
      "60000/60000 [==============================] - 5s 86us/step - loss: 0.1270 - accuracy: 0.9537\n",
      "Epoch 12/50\n",
      "60000/60000 [==============================] - 5s 88us/step - loss: 0.1259 - accuracy: 0.9524\n",
      "Epoch 13/50\n",
      "60000/60000 [==============================] - 5s 88us/step - loss: 0.1223 - accuracy: 0.9544\n",
      "Epoch 14/50\n",
      "60000/60000 [==============================] - 5s 88us/step - loss: 0.1184 - accuracy: 0.9552\n",
      "Epoch 15/50\n",
      "60000/60000 [==============================] - 5s 88us/step - loss: 0.1195 - accuracy: 0.9547\n",
      "Epoch 16/50\n",
      "60000/60000 [==============================] - 5s 88us/step - loss: 0.1182 - accuracy: 0.9552\n",
      "Epoch 17/50\n",
      "60000/60000 [==============================] - 5s 90us/step - loss: 0.1153 - accuracy: 0.9567\n",
      "Epoch 18/50\n",
      "60000/60000 [==============================] - 5s 90us/step - loss: 0.1126 - accuracy: 0.9579\n",
      "Epoch 19/50\n",
      "60000/60000 [==============================] - 5s 90us/step - loss: 0.1121 - accuracy: 0.9570\n",
      "Epoch 20/50\n",
      "60000/60000 [==============================] - 5s 90us/step - loss: 0.1097 - accuracy: 0.9587\n",
      "Epoch 21/50\n",
      "60000/60000 [==============================] - 5s 91us/step - loss: 0.1080 - accuracy: 0.9595\n",
      "Epoch 22/50\n",
      "60000/60000 [==============================] - 5s 89us/step - loss: 0.1092 - accuracy: 0.9587\n",
      "Epoch 23/50\n",
      "60000/60000 [==============================] - 5s 88us/step - loss: 0.1059 - accuracy: 0.9596\n",
      "Epoch 24/50\n",
      "60000/60000 [==============================] - 5s 88us/step - loss: 0.1053 - accuracy: 0.9606\n",
      "Epoch 25/50\n",
      "60000/60000 [==============================] - 5s 88us/step - loss: 0.1025 - accuracy: 0.9610\n",
      "Epoch 26/50\n",
      "60000/60000 [==============================] - 5s 91us/step - loss: 0.1000 - accuracy: 0.9627\n",
      "Epoch 27/50\n",
      "60000/60000 [==============================] - 5s 91us/step - loss: 0.0988 - accuracy: 0.9629\n",
      "Epoch 28/50\n",
      "60000/60000 [==============================] - 5s 91us/step - loss: 0.0995 - accuracy: 0.9627\n",
      "Epoch 29/50\n",
      "60000/60000 [==============================] - 5s 90us/step - loss: 0.0967 - accuracy: 0.9636\n",
      "Epoch 30/50\n",
      "60000/60000 [==============================] - 5s 90us/step - loss: 0.0940 - accuracy: 0.9652\n",
      "Epoch 31/50\n",
      "60000/60000 [==============================] - 5s 90us/step - loss: 0.0961 - accuracy: 0.9644\n",
      "Epoch 32/50\n",
      "60000/60000 [==============================] - 5s 91us/step - loss: 0.0934 - accuracy: 0.9658\n",
      "Epoch 33/50\n",
      "60000/60000 [==============================] - 5s 91us/step - loss: 0.0912 - accuracy: 0.9651\n",
      "Epoch 34/50\n",
      "60000/60000 [==============================] - 6s 92us/step - loss: 0.0920 - accuracy: 0.9654\n",
      "Epoch 35/50\n",
      "60000/60000 [==============================] - 5s 89us/step - loss: 0.0898 - accuracy: 0.9664\n",
      "Epoch 36/50\n",
      "60000/60000 [==============================] - 5s 89us/step - loss: 0.0870 - accuracy: 0.9681\n",
      "Epoch 37/50\n",
      "60000/60000 [==============================] - 5s 89us/step - loss: 0.0885 - accuracy: 0.9673\n",
      "Epoch 38/50\n",
      "60000/60000 [==============================] - 5s 89us/step - loss: 0.0876 - accuracy: 0.9670\n",
      "Epoch 39/50\n",
      "60000/60000 [==============================] - 5s 91us/step - loss: 0.0841 - accuracy: 0.9686\n",
      "Epoch 40/50\n",
      "60000/60000 [==============================] - 5s 91us/step - loss: 0.0828 - accuracy: 0.9689\n",
      "Epoch 41/50\n",
      "60000/60000 [==============================] - 5s 91us/step - loss: 0.0835 - accuracy: 0.9683\n",
      "Epoch 42/50\n",
      "60000/60000 [==============================] - 5s 91us/step - loss: 0.0817 - accuracy: 0.9692\n",
      "Epoch 43/50\n",
      "60000/60000 [==============================] - 5s 91us/step - loss: 0.0814 - accuracy: 0.9697\n",
      "Epoch 44/50\n",
      "60000/60000 [==============================] - 5s 90us/step - loss: 0.0801 - accuracy: 0.9700\n",
      "Epoch 45/50\n",
      "60000/60000 [==============================] - 6s 92us/step - loss: 0.0785 - accuracy: 0.9705\n",
      "Epoch 46/50\n",
      "60000/60000 [==============================] - 6s 93us/step - loss: 0.0791 - accuracy: 0.9705\n",
      "Epoch 47/50\n",
      "60000/60000 [==============================] - 5s 91us/step - loss: 0.0776 - accuracy: 0.9711\n",
      "Epoch 48/50\n",
      "60000/60000 [==============================] - 6s 92us/step - loss: 0.0751 - accuracy: 0.9714\n",
      "Epoch 49/50\n",
      "60000/60000 [==============================] - 5s 90us/step - loss: 0.0749 - accuracy: 0.9720\n",
      "Epoch 50/50\n",
      "60000/60000 [==============================] - 5s 91us/step - loss: 0.0768 - accuracy: 0.9713\n"
     ]
    },
    {
     "data": {
      "text/plain": [
       "<keras.callbacks.callbacks.History at 0x7f343874ba90>"
      ]
     },
     "execution_count": 75,
     "metadata": {},
     "output_type": "execute_result"
    }
   ],
   "source": [
    "model.fit(x_train, y_train, epochs = 50)"
   ]
  },
  {
   "cell_type": "code",
   "execution_count": 65,
   "metadata": {},
   "outputs": [
    {
     "name": "stdout",
     "output_type": "stream",
     "text": [
      "10000/10000 [==============================] - 0s 32us/step\n"
     ]
    },
    {
     "data": {
      "text/plain": [
       "[0.35288221509456635, 0.8780999779701233]"
      ]
     },
     "execution_count": 65,
     "metadata": {},
     "output_type": "execute_result"
    }
   ],
   "source": [
    "model.evaluate(x_test, y_test)"
   ]
  },
  {
   "cell_type": "code",
   "execution_count": null,
   "metadata": {},
   "outputs": [],
   "source": []
  }
 ],
 "metadata": {
  "kernelspec": {
   "display_name": "Python 3",
   "language": "python",
   "name": "python3"
  },
  "language_info": {
   "codemirror_mode": {
    "name": "ipython",
    "version": 3
   },
   "file_extension": ".py",
   "mimetype": "text/x-python",
   "name": "python",
   "nbconvert_exporter": "python",
   "pygments_lexer": "ipython3",
   "version": "3.7.4"
  }
 },
 "nbformat": 4,
 "nbformat_minor": 2
}
